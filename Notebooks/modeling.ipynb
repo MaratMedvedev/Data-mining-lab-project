{
  "cells": [
    {
      "cell_type": "code",
      "source": [
        "import pandas as pd\n",
        "import numpy as np\n",
        "import torch\n",
        "import torch.nn as nn\n",
        "from sklearn.model_selection import train_test_split\n",
        "from sklearn.preprocessing import StandardScaler\n",
        "import matplotlib.pyplot as plt"
      ],
      "metadata": {
        "id": "u5sRzHy22TQW"
      },
      "id": "u5sRzHy22TQW",
      "execution_count": 197,
      "outputs": []
    },
    {
      "cell_type": "markdown",
      "source": [
        "You can find my datasets as zip file in my github by [link](https://github.com/MaratMedvedev/Data-mining-lab-project/tree/main/Preprocessed%20datasets)."
      ],
      "metadata": {
        "id": "_KIutTC-_nNT"
      },
      "id": "_KIutTC-_nNT"
    },
    {
      "cell_type": "code",
      "source": [
        "# !unzip /content/datasets.zip"
      ],
      "metadata": {
        "id": "_gc_ThP-2m1g"
      },
      "id": "_gc_ThP-2m1g",
      "execution_count": 198,
      "outputs": []
    },
    {
      "cell_type": "code",
      "source": [
        "df = pd.read_csv('prepared_dataset_sale_estate.csv')\n",
        "df.columns"
      ],
      "metadata": {
        "colab": {
          "base_uri": "https://localhost:8080/"
        },
        "id": "bsI-_OLx2VuW",
        "outputId": "6155aa7f-6839-4a5a-9505-ea71fb229228"
      },
      "id": "bsI-_OLx2VuW",
      "execution_count": 199,
      "outputs": [
        {
          "output_type": "execute_result",
          "data": {
            "text/plain": [
              "Index(['Unnamed: 0', 'price', 'beds', 'livings', 'wc', 'area', 'street_width',\n",
              "       'age', 'ketchen', 'furnished', 'location.lat', 'location.lng',\n",
              "       'category_2', 'category_3', 'category_6', 'category_7', 'category_9',\n",
              "       'category_10', 'category_12', 'category_20', 'category_21',\n",
              "       'category_22', 'street_direction_0.0', 'street_direction_1.0',\n",
              "       'street_direction_2.0', 'street_direction_3.0', 'street_direction_4.0',\n",
              "       'street_direction_5.0', 'street_direction_6.0', 'street_direction_7.0',\n",
              "       'street_direction_8.0', 'street_direction_9.0',\n",
              "       'street_direction_10.0'],\n",
              "      dtype='object')"
            ]
          },
          "metadata": {},
          "execution_count": 199
        }
      ]
    },
    {
      "cell_type": "code",
      "source": [
        "df = df.drop('Unnamed: 0', axis=1)"
      ],
      "metadata": {
        "id": "yyMDb11k9KD-"
      },
      "id": "yyMDb11k9KD-",
      "execution_count": 200,
      "outputs": []
    },
    {
      "cell_type": "code",
      "execution_count": 201,
      "outputs": [],
      "source": [
        "class NeuralNetwork(nn.Module):\n",
        "    def __init__(self, input_size):\n",
        "        super(NeuralNetwork, self).__init__()\n",
        "        self.fc1 = nn.Linear(input_size, 100)\n",
        "        self.fc2 = nn.Linear(100, 50)\n",
        "        self.fc3 = nn.Linear(50, 1)\n",
        "        self.relu = nn.ReLU()\n",
        "\n",
        "    def forward(self, x):\n",
        "        x = self.relu(self.fc1(x))\n",
        "        x = self.relu(self.fc2(x))\n",
        "        x = self.fc3(x)\n",
        "        return x"
      ],
      "metadata": {
        "id": "7a62887295fe1f75"
      },
      "id": "7a62887295fe1f75"
    },
    {
      "cell_type": "markdown",
      "source": [
        "I experiment with truncating dataset to remove outliers. I create dataFrames with different percentages of most and least values that was truncated from the dataset based on 'price' column."
      ],
      "metadata": {
        "id": "_1P2OekWRQ4C"
      },
      "id": "_1P2OekWRQ4C"
    },
    {
      "cell_type": "code",
      "source": [
        "def truncate_extreme_values(df, x):\n",
        "    \"\"\"\n",
        "    Truncates x-th percentage of most and least values from the 'price' column in the DataFrame.\n",
        "\n",
        "    Parameters:\n",
        "    df (DataFrame): Input DataFrame containing the 'price' column.\n",
        "    x (float): Percentage of values to truncate from both ends.\n",
        "\n",
        "    Returns:\n",
        "    DataFrame: DataFrame with x-th percentage of most and least values truncated from the 'price' column.\n",
        "    \"\"\"\n",
        "    lower_threshold = df['price'].quantile(x / 100)\n",
        "    upper_threshold = df['price'].quantile(1 - (x / 100))\n",
        "\n",
        "    truncated_df = df[(df['price'] >= lower_threshold) & (df['price'] <= upper_threshold)]\n",
        "\n",
        "    return truncated_df"
      ],
      "metadata": {
        "id": "_pMdDCKQROL5"
      },
      "id": "_pMdDCKQROL5",
      "execution_count": 202,
      "outputs": []
    },
    {
      "cell_type": "code",
      "source": [
        "df = truncate_extreme_values(df, 5)"
      ],
      "metadata": {
        "id": "XXi7MM19RxBU"
      },
      "id": "XXi7MM19RxBU",
      "execution_count": 203,
      "outputs": []
    },
    {
      "cell_type": "code",
      "source": [
        "def normalize_data(df, numeric_columns):\n",
        "    scaler = StandardScaler()\n",
        "    df[numeric_columns] = scaler.fit_transform(df[numeric_columns])\n",
        "    return df\n",
        "def normalize_price(x):\n",
        "    return np.log(x) / 20\n",
        "def undo_normalization_price(x):\n",
        "  return np.exp(x*20)"
      ],
      "metadata": {
        "id": "n_Ow-m_v6NFj"
      },
      "id": "n_Ow-m_v6NFj",
      "execution_count": 204,
      "outputs": []
    },
    {
      "cell_type": "code",
      "source": [
        "numeric_columns = ['beds', 'livings', 'wc', 'area', 'street_width', 'age', 'location.lat', 'location.lng']\n",
        "\n",
        "df_normalized = normalize_data(df.copy()[df['price']>100], numeric_columns)\n",
        "for col in df.columns:\n",
        "  df_normalized[col] = df_normalized[col].astype(float)"
      ],
      "metadata": {
        "id": "W-EFiZwZ6Ula"
      },
      "id": "W-EFiZwZ6Ula",
      "execution_count": 205,
      "outputs": []
    },
    {
      "cell_type": "code",
      "source": [
        "df_normalized['price'] = df_normalized['price'].apply(normalize_price)"
      ],
      "metadata": {
        "id": "Oq_oJf7WMQOu"
      },
      "id": "Oq_oJf7WMQOu",
      "execution_count": 206,
      "outputs": []
    },
    {
      "cell_type": "code",
      "source": [
        "y = df_normalized['price']\n",
        "X = df_normalized.drop('price', axis=1)\n",
        "random_seed = 42\n",
        "\n",
        "X_train, X_test, y_train, y_test = train_test_split(X, y, test_size=0.2, random_state=random_seed)"
      ],
      "metadata": {
        "id": "gPfCKPoI877A"
      },
      "id": "gPfCKPoI877A",
      "execution_count": 207,
      "outputs": []
    },
    {
      "cell_type": "code",
      "source": [
        "device = torch.device(\"cuda\" if torch.cuda.is_available() else \"cpu\")\n",
        "device"
      ],
      "metadata": {
        "colab": {
          "base_uri": "https://localhost:8080/"
        },
        "id": "Sf9k4FGYBwFj",
        "outputId": "aa25bcdc-7226-4553-df92-71eda955097f"
      },
      "id": "Sf9k4FGYBwFj",
      "execution_count": 208,
      "outputs": [
        {
          "output_type": "execute_result",
          "data": {
            "text/plain": [
              "device(type='cuda')"
            ]
          },
          "metadata": {},
          "execution_count": 208
        }
      ]
    },
    {
      "cell_type": "code",
      "source": [
        "X_train = torch.from_numpy(X_train.values.astype(np.float32)).to(device)\n",
        "X_test = torch.from_numpy(X_test.values.astype(np.float32)).to(device)\n",
        "y_train = torch.from_numpy(y_train.values.astype(np.float32)).view(-1, 1).to(device)\n",
        "y_test = torch.from_numpy(y_test.values.astype(np.float32)).view(-1, 1).to(device)"
      ],
      "metadata": {
        "id": "lYG3DFk677qe"
      },
      "id": "lYG3DFk677qe",
      "execution_count": 209,
      "outputs": []
    },
    {
      "cell_type": "code",
      "source": [
        "input_size = X_train.shape[1]\n",
        "model = NeuralNetwork(input_size).to(device)\n",
        "criterion = nn.L1Loss()\n",
        "optimizer = torch.optim.Adam(model.parameters(), lr=0.0005)"
      ],
      "metadata": {
        "id": "YvtTE66t6o01"
      },
      "id": "YvtTE66t6o01",
      "execution_count": 213,
      "outputs": []
    },
    {
      "cell_type": "code",
      "source": [
        "# Training the model\n",
        "num_epochs = 30000\n",
        "for epoch in range(num_epochs):\n",
        "    model.train()\n",
        "    optimizer.zero_grad()\n",
        "    outputs = model(X_train)\n",
        "    loss = criterion(outputs, y_train)\n",
        "    loss.backward()\n",
        "    optimizer.step()\n",
        "    if epoch % 1000 == 0:\n",
        "      print(f'Epoch [{epoch}/{num_epochs}], Loss: {loss.item():.4f}')"
      ],
      "metadata": {
        "colab": {
          "base_uri": "https://localhost:8080/"
        },
        "id": "-D6DytKjECRe",
        "outputId": "ab5326e0-8de7-44cb-f2aa-355c71cd4aa0"
      },
      "id": "-D6DytKjECRe",
      "execution_count": 214,
      "outputs": [
        {
          "output_type": "stream",
          "name": "stdout",
          "text": [
            "Epoch [0/30000], Loss: 0.8753\n",
            "Epoch [1000/30000], Loss: 0.0112\n",
            "Epoch [2000/30000], Loss: 0.0093\n",
            "Epoch [3000/30000], Loss: 0.0089\n",
            "Epoch [4000/30000], Loss: 0.0085\n",
            "Epoch [5000/30000], Loss: 0.0083\n",
            "Epoch [6000/30000], Loss: 0.0082\n",
            "Epoch [7000/30000], Loss: 0.0081\n",
            "Epoch [8000/30000], Loss: 0.0079\n",
            "Epoch [9000/30000], Loss: 0.0079\n",
            "Epoch [10000/30000], Loss: 0.0077\n",
            "Epoch [11000/30000], Loss: 0.0069\n",
            "Epoch [12000/30000], Loss: 0.0068\n",
            "Epoch [13000/30000], Loss: 0.0065\n",
            "Epoch [14000/30000], Loss: 0.0064\n",
            "Epoch [15000/30000], Loss: 0.0064\n",
            "Epoch [16000/30000], Loss: 0.0062\n",
            "Epoch [17000/30000], Loss: 0.0064\n",
            "Epoch [18000/30000], Loss: 0.0063\n",
            "Epoch [19000/30000], Loss: 0.0062\n",
            "Epoch [20000/30000], Loss: 0.0061\n",
            "Epoch [21000/30000], Loss: 0.0061\n",
            "Epoch [22000/30000], Loss: 0.0063\n",
            "Epoch [23000/30000], Loss: 0.0061\n",
            "Epoch [24000/30000], Loss: 0.0060\n",
            "Epoch [25000/30000], Loss: 0.0060\n",
            "Epoch [26000/30000], Loss: 0.0060\n",
            "Epoch [27000/30000], Loss: 0.0060\n",
            "Epoch [28000/30000], Loss: 0.0062\n",
            "Epoch [29000/30000], Loss: 0.0060\n"
          ]
        }
      ]
    },
    {
      "cell_type": "code",
      "source": [
        "# Evaluating the model\n",
        "model.eval()\n",
        "with torch.no_grad():\n",
        "    predicted = model(X_test)\n",
        "    test_loss = criterion(torch.exp(predicted*20), torch.exp(y_test*20))\n",
        "    print(f'Test Loss: {test_loss.item():.4f}')"
      ],
      "metadata": {
        "colab": {
          "base_uri": "https://localhost:8080/"
        },
        "id": "sPc1WcajEFlj",
        "outputId": "9bcca72c-6895-48d9-e98a-1c7ef3b4398f"
      },
      "id": "sPc1WcajEFlj",
      "execution_count": 215,
      "outputs": [
        {
          "output_type": "stream",
          "name": "stdout",
          "text": [
            "Test Loss: 196139.0469\n"
          ]
        }
      ]
    }
  ],
  "metadata": {
    "kernelspec": {
      "display_name": "Python 3",
      "name": "python3"
    },
    "language_info": {
      "codemirror_mode": {
        "name": "ipython",
        "version": 2
      },
      "file_extension": ".py",
      "mimetype": "text/x-python",
      "name": "python",
      "nbconvert_exporter": "python",
      "pygments_lexer": "ipython2",
      "version": "2.7.6"
    },
    "colab": {
      "provenance": [],
      "gpuType": "T4"
    },
    "accelerator": "GPU"
  },
  "nbformat": 4,
  "nbformat_minor": 5
}
