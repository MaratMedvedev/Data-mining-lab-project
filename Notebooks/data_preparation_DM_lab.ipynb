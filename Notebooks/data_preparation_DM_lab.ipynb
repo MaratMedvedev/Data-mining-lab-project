{
 "cells": [
  {
   "cell_type": "code",
   "execution_count": 25,
   "id": "initial_id",
   "metadata": {
    "collapsed": true,
    "ExecuteTime": {
     "end_time": "2024-04-03T21:12:13.811746300Z",
     "start_time": "2024-04-03T21:11:02.039695300Z"
    }
   },
   "outputs": [
    {
     "data": {
      "text/plain": "   user_id    id                                                uri  \\\n0    10065  4331                  شارع-الياقوت-الدار-البيضاء-الرياض   \n1    11005  4837  طريق-الملك-عبدالله-بن-عبدالعزيز-الفرعي-المغرزا...   \n2     8017  5498                    5-المملكة-العربية-السعودية-5498   \n3    13810  6520                      شارع-Saher-Al-Garbee-St-ذهبان   \n4     5234  8847         طريق-الملك-خالد-حي-الثقبة-الخبر-الخبر-8847   \n\n                                               title       price  \\\n0   أرض للبيع في شارع الياقوت, الدار البيضاء, الرياض   1958400.0   \n1  أرض للبيع في طريق الملك عبدالله بن عبدالعزيز ا...  15078000.0   \n2            أرض للبيع في 5 المملكة العربية السعودية   8057700.0   \n3     أرض للإيجار في شارع الهزاعية, حي العشيرية, جدة     50000.0   \n4  أرض للبيع في طريق الملك خالد ، حي الثقبة ، الخ...   3000000.0   \n\n                                             content  \\\n0                 تجاريه ش ياقوت ٦٠ مساحه ٨١٦ تقريبا   \n1  الارض على طريق الملك عبدالله على شارعين مظاهره...   \n2  الارض استثماريه في محافظة البرك طريق جده جازان...   \n3  السلام عليكم ورحمة الله وبركاته\\nوكل عام وانتم...   \n4  ارض للبيع لبناء شقق فندقيه او عمارات سكنيه خلف...   \n\n                                                imgs     refresh  category  \\\n0                    [\"000000000_1627687178830.jpg\"]  1672495809         2   \n1                    [\"000000000_1627687181813.jpg\"]  1672040788         2   \n2  [\"506610555_1417214243205.jpg\",\"506610555_1417...  1671819056         2   \n3  [\"504121665_1418232181483.jpg\",\"504121665_1418...  1672190424        15   \n4  [\"567772202_1632148243568.png\",\"000052346_1661...  1672253180         2   \n\n   beds  ...          district  district_id  width  length  advertiser_type  \\\n0   0.0  ...  حي الدار البيضاء          424   25.0    32.0             None   \n1   0.0  ...       حي المغرزات          566    NaN     NaN             None   \n2   0.0  ...         حي الروضة         4100    NaN     NaN             None   \n3   0.0  ...         حي الرياض         3490   20.0    20.0             None   \n4   0.0  ...         حي الثقبة         1060    NaN     NaN             None   \n\n   create_time  has_extended_details  daily_rentable  \\\n0   1415294130                   NaN             0.0   \n1   1416054461                   NaN             0.0   \n2   1417220044                   NaN             0.0   \n3   1418232587                   NaN             0.0   \n4   1420232812                   NaN             0.0   \n\n                        createdAt                       updatedAt  \n0  2023-01-01 14:13:28.553 +00:00  2023-01-01 14:13:28.553 +00:00  \n1  2023-01-01 14:52:38.169 +00:00  2023-01-01 14:52:38.169 +00:00  \n2  2023-01-01 15:01:52.351 +00:00  2023-01-01 15:01:52.351 +00:00  \n3  2023-01-01 14:43:23.326 +00:00  2023-01-01 14:43:23.326 +00:00  \n4  2023-01-01 14:38:46.004 +00:00  2023-01-01 14:38:46.004 +00:00  \n\n[5 rows x 48 columns]",
      "text/html": "<div>\n<style scoped>\n    .dataframe tbody tr th:only-of-type {\n        vertical-align: middle;\n    }\n\n    .dataframe tbody tr th {\n        vertical-align: top;\n    }\n\n    .dataframe thead th {\n        text-align: right;\n    }\n</style>\n<table border=\"1\" class=\"dataframe\">\n  <thead>\n    <tr style=\"text-align: right;\">\n      <th></th>\n      <th>user_id</th>\n      <th>id</th>\n      <th>uri</th>\n      <th>title</th>\n      <th>price</th>\n      <th>content</th>\n      <th>imgs</th>\n      <th>refresh</th>\n      <th>category</th>\n      <th>beds</th>\n      <th>...</th>\n      <th>district</th>\n      <th>district_id</th>\n      <th>width</th>\n      <th>length</th>\n      <th>advertiser_type</th>\n      <th>create_time</th>\n      <th>has_extended_details</th>\n      <th>daily_rentable</th>\n      <th>createdAt</th>\n      <th>updatedAt</th>\n    </tr>\n  </thead>\n  <tbody>\n    <tr>\n      <th>0</th>\n      <td>10065</td>\n      <td>4331</td>\n      <td>شارع-الياقوت-الدار-البيضاء-الرياض</td>\n      <td>أرض للبيع في شارع الياقوت, الدار البيضاء, الرياض</td>\n      <td>1958400.0</td>\n      <td>تجاريه ش ياقوت ٦٠ مساحه ٨١٦ تقريبا</td>\n      <td>[\"000000000_1627687178830.jpg\"]</td>\n      <td>1672495809</td>\n      <td>2</td>\n      <td>0.0</td>\n      <td>...</td>\n      <td>حي الدار البيضاء</td>\n      <td>424</td>\n      <td>25.0</td>\n      <td>32.0</td>\n      <td>None</td>\n      <td>1415294130</td>\n      <td>NaN</td>\n      <td>0.0</td>\n      <td>2023-01-01 14:13:28.553 +00:00</td>\n      <td>2023-01-01 14:13:28.553 +00:00</td>\n    </tr>\n    <tr>\n      <th>1</th>\n      <td>11005</td>\n      <td>4837</td>\n      <td>طريق-الملك-عبدالله-بن-عبدالعزيز-الفرعي-المغرزا...</td>\n      <td>أرض للبيع في طريق الملك عبدالله بن عبدالعزيز ا...</td>\n      <td>15078000.0</td>\n      <td>الارض على طريق الملك عبدالله على شارعين مظاهره...</td>\n      <td>[\"000000000_1627687181813.jpg\"]</td>\n      <td>1672040788</td>\n      <td>2</td>\n      <td>0.0</td>\n      <td>...</td>\n      <td>حي المغرزات</td>\n      <td>566</td>\n      <td>NaN</td>\n      <td>NaN</td>\n      <td>None</td>\n      <td>1416054461</td>\n      <td>NaN</td>\n      <td>0.0</td>\n      <td>2023-01-01 14:52:38.169 +00:00</td>\n      <td>2023-01-01 14:52:38.169 +00:00</td>\n    </tr>\n    <tr>\n      <th>2</th>\n      <td>8017</td>\n      <td>5498</td>\n      <td>5-المملكة-العربية-السعودية-5498</td>\n      <td>أرض للبيع في 5 المملكة العربية السعودية</td>\n      <td>8057700.0</td>\n      <td>الارض استثماريه في محافظة البرك طريق جده جازان...</td>\n      <td>[\"506610555_1417214243205.jpg\",\"506610555_1417...</td>\n      <td>1671819056</td>\n      <td>2</td>\n      <td>0.0</td>\n      <td>...</td>\n      <td>حي الروضة</td>\n      <td>4100</td>\n      <td>NaN</td>\n      <td>NaN</td>\n      <td>None</td>\n      <td>1417220044</td>\n      <td>NaN</td>\n      <td>0.0</td>\n      <td>2023-01-01 15:01:52.351 +00:00</td>\n      <td>2023-01-01 15:01:52.351 +00:00</td>\n    </tr>\n    <tr>\n      <th>3</th>\n      <td>13810</td>\n      <td>6520</td>\n      <td>شارع-Saher-Al-Garbee-St-ذهبان</td>\n      <td>أرض للإيجار في شارع الهزاعية, حي العشيرية, جدة</td>\n      <td>50000.0</td>\n      <td>السلام عليكم ورحمة الله وبركاته\\nوكل عام وانتم...</td>\n      <td>[\"504121665_1418232181483.jpg\",\"504121665_1418...</td>\n      <td>1672190424</td>\n      <td>15</td>\n      <td>0.0</td>\n      <td>...</td>\n      <td>حي الرياض</td>\n      <td>3490</td>\n      <td>20.0</td>\n      <td>20.0</td>\n      <td>None</td>\n      <td>1418232587</td>\n      <td>NaN</td>\n      <td>0.0</td>\n      <td>2023-01-01 14:43:23.326 +00:00</td>\n      <td>2023-01-01 14:43:23.326 +00:00</td>\n    </tr>\n    <tr>\n      <th>4</th>\n      <td>5234</td>\n      <td>8847</td>\n      <td>طريق-الملك-خالد-حي-الثقبة-الخبر-الخبر-8847</td>\n      <td>أرض للبيع في طريق الملك خالد ، حي الثقبة ، الخ...</td>\n      <td>3000000.0</td>\n      <td>ارض للبيع لبناء شقق فندقيه او عمارات سكنيه خلف...</td>\n      <td>[\"567772202_1632148243568.png\",\"000052346_1661...</td>\n      <td>1672253180</td>\n      <td>2</td>\n      <td>0.0</td>\n      <td>...</td>\n      <td>حي الثقبة</td>\n      <td>1060</td>\n      <td>NaN</td>\n      <td>NaN</td>\n      <td>None</td>\n      <td>1420232812</td>\n      <td>NaN</td>\n      <td>0.0</td>\n      <td>2023-01-01 14:38:46.004 +00:00</td>\n      <td>2023-01-01 14:38:46.004 +00:00</td>\n    </tr>\n  </tbody>\n</table>\n<p>5 rows × 48 columns</p>\n</div>"
     },
     "execution_count": 25,
     "metadata": {},
     "output_type": "execute_result"
    }
   ],
   "source": [
    "import sqlite3\n",
    "import pandas as pd\n",
    "\n",
    "# Connect to the database\n",
    "conn = sqlite3.connect('archive (1)/database.db')\n",
    "\n",
    "query = '''\n",
    "          SELECT\n",
    "          *\n",
    "          FROM Listings\n",
    "          '''\n",
    "df = pd.read_sql(query, conn)\n",
    "df.head(5)"
   ]
  },
  {
   "cell_type": "code",
   "execution_count": 26,
   "outputs": [
    {
     "data": {
      "text/plain": "        price  category  beds  livings   wc     area  type  street_width  age  \\\n0   1958400.0         2   0.0      0.0  0.0    816.0   2.0          60.0  0.0   \n1  15078000.0         2   0.0      0.0  0.0   1077.0   2.0          80.0  0.0   \n2   8057700.0         2   0.0      0.0  0.0  23022.0   3.0          15.0  0.0   \n3     50000.0        15   0.0      0.0  0.0    400.0   3.0          35.0  0.0   \n4   3000000.0         2   0.0      0.0  0.0    870.0   3.0          15.0  0.0   \n\n   street_direction  ketchen   ac  furnished  location.lat  location.lng  \\\n0               4.0      0.0  0.0        0.0     24.548930     46.781390   \n1               4.0      0.0  0.0        0.0     24.754130     46.724820   \n2               3.0      0.0  0.0        0.0     18.268720     41.516460   \n3               4.0      0.0  0.0        0.0     21.892200     39.126540   \n4               7.0      0.0  0.0        0.0     26.285235     50.180363   \n\n   rent_period  \n0          0.0  \n1          0.0  \n2          0.0  \n3          0.0  \n4          0.0  ",
      "text/html": "<div>\n<style scoped>\n    .dataframe tbody tr th:only-of-type {\n        vertical-align: middle;\n    }\n\n    .dataframe tbody tr th {\n        vertical-align: top;\n    }\n\n    .dataframe thead th {\n        text-align: right;\n    }\n</style>\n<table border=\"1\" class=\"dataframe\">\n  <thead>\n    <tr style=\"text-align: right;\">\n      <th></th>\n      <th>price</th>\n      <th>category</th>\n      <th>beds</th>\n      <th>livings</th>\n      <th>wc</th>\n      <th>area</th>\n      <th>type</th>\n      <th>street_width</th>\n      <th>age</th>\n      <th>street_direction</th>\n      <th>ketchen</th>\n      <th>ac</th>\n      <th>furnished</th>\n      <th>location.lat</th>\n      <th>location.lng</th>\n      <th>rent_period</th>\n    </tr>\n  </thead>\n  <tbody>\n    <tr>\n      <th>0</th>\n      <td>1958400.0</td>\n      <td>2</td>\n      <td>0.0</td>\n      <td>0.0</td>\n      <td>0.0</td>\n      <td>816.0</td>\n      <td>2.0</td>\n      <td>60.0</td>\n      <td>0.0</td>\n      <td>4.0</td>\n      <td>0.0</td>\n      <td>0.0</td>\n      <td>0.0</td>\n      <td>24.548930</td>\n      <td>46.781390</td>\n      <td>0.0</td>\n    </tr>\n    <tr>\n      <th>1</th>\n      <td>15078000.0</td>\n      <td>2</td>\n      <td>0.0</td>\n      <td>0.0</td>\n      <td>0.0</td>\n      <td>1077.0</td>\n      <td>2.0</td>\n      <td>80.0</td>\n      <td>0.0</td>\n      <td>4.0</td>\n      <td>0.0</td>\n      <td>0.0</td>\n      <td>0.0</td>\n      <td>24.754130</td>\n      <td>46.724820</td>\n      <td>0.0</td>\n    </tr>\n    <tr>\n      <th>2</th>\n      <td>8057700.0</td>\n      <td>2</td>\n      <td>0.0</td>\n      <td>0.0</td>\n      <td>0.0</td>\n      <td>23022.0</td>\n      <td>3.0</td>\n      <td>15.0</td>\n      <td>0.0</td>\n      <td>3.0</td>\n      <td>0.0</td>\n      <td>0.0</td>\n      <td>0.0</td>\n      <td>18.268720</td>\n      <td>41.516460</td>\n      <td>0.0</td>\n    </tr>\n    <tr>\n      <th>3</th>\n      <td>50000.0</td>\n      <td>15</td>\n      <td>0.0</td>\n      <td>0.0</td>\n      <td>0.0</td>\n      <td>400.0</td>\n      <td>3.0</td>\n      <td>35.0</td>\n      <td>0.0</td>\n      <td>4.0</td>\n      <td>0.0</td>\n      <td>0.0</td>\n      <td>0.0</td>\n      <td>21.892200</td>\n      <td>39.126540</td>\n      <td>0.0</td>\n    </tr>\n    <tr>\n      <th>4</th>\n      <td>3000000.0</td>\n      <td>2</td>\n      <td>0.0</td>\n      <td>0.0</td>\n      <td>0.0</td>\n      <td>870.0</td>\n      <td>3.0</td>\n      <td>15.0</td>\n      <td>0.0</td>\n      <td>7.0</td>\n      <td>0.0</td>\n      <td>0.0</td>\n      <td>0.0</td>\n      <td>26.285235</td>\n      <td>50.180363</td>\n      <td>0.0</td>\n    </tr>\n  </tbody>\n</table>\n</div>"
     },
     "execution_count": 26,
     "metadata": {},
     "output_type": "execute_result"
    }
   ],
   "source": [
    "not_needed_columns = ['user_id', 'id', 'uri', 'title', 'content',\n",
    "                      'imgs', 'refresh', 'last_update', 'path', 'user.review',\n",
    "                      'user.img', 'user.name', 'user.phone', 'user.iam_verified',\n",
    "                      'user.rega_id', 'native.logo', 'native.title', 'native.image',\n",
    "                      'native.description', 'native.external_url', 'city', 'district', 'width', 'length',\n",
    "                      'advertiser_type', 'create_time', 'has_extended_details', 'createdAt', 'updatedAt', 'city_id', 'district_id', 'daily_rentable']\n",
    "ndf = df.drop(not_needed_columns, axis=1)\n",
    "ndf.head(5)"
   ],
   "metadata": {
    "collapsed": false,
    "ExecuteTime": {
     "end_time": "2024-04-03T21:12:13.989205Z",
     "start_time": "2024-04-03T21:12:13.847163500Z"
    }
   },
   "id": "16b9b4a1c74e0d6e"
  },
  {
   "cell_type": "code",
   "execution_count": 27,
   "outputs": [],
   "source": [
    "# Splitting real-estate for rental and for selling because it two different task\n",
    "\n",
    "rental_categories = [1, 4, 5, 8, 11, 13, 14, 15, 16, 17, 18, 19, 23]\n",
    "sell_categories = [2, 3, 6, 7, 9, 10, 12, 20, 21, 22]"
   ],
   "metadata": {
    "collapsed": false,
    "ExecuteTime": {
     "end_time": "2024-04-03T21:12:13.989205Z",
     "start_time": "2024-04-03T21:12:13.898220600Z"
    }
   },
   "id": "5e17c73393f7bf15"
  },
  {
   "cell_type": "code",
   "execution_count": 28,
   "outputs": [
    {
     "name": "stdout",
     "output_type": "stream",
     "text": [
      "Number of real-estate for sale: 525516\n",
      "Number of real-estate for rent: 138430\n"
     ]
    }
   ],
   "source": [
    "sell_df = ndf[ndf['category'].isin(sell_categories)]\n",
    "rental_df = ndf[ndf['category'].isin(rental_categories)]\n",
    "print(\"Number of real-estate for sale:\", sell_df.shape[0])\n",
    "print(\"Number of real-estate for rent:\", rental_df.shape[0])"
   ],
   "metadata": {
    "collapsed": false,
    "ExecuteTime": {
     "end_time": "2024-04-03T21:12:14.243344600Z",
     "start_time": "2024-04-03T21:12:13.925266100Z"
    }
   },
   "id": "d500fd0393d25a82"
  },
  {
   "cell_type": "markdown",
   "source": [
    "# Real-estate for sale"
   ],
   "metadata": {
    "collapsed": false
   },
   "id": "532e3a71c85f7fc5"
  },
  {
   "cell_type": "code",
   "execution_count": 29,
   "outputs": [
    {
     "data": {
      "text/plain": "price                    0\ncategory                 0\nbeds                224913\nlivings             224573\nwc                  226567\narea                    27\ntype                370271\nstreet_width         13705\nage                 225654\nstreet_direction      5987\nketchen             244131\nac                  522101\nfurnished           216162\nlocation.lat             0\nlocation.lng             0\ndtype: int64"
     },
     "execution_count": 29,
     "metadata": {},
     "output_type": "execute_result"
    }
   ],
   "source": [
    "sell_df = sell_df.drop(['rent_period'], axis=1)\n",
    "sell_df.isnull().sum()"
   ],
   "metadata": {
    "collapsed": false,
    "ExecuteTime": {
     "end_time": "2024-04-03T21:12:14.311641100Z",
     "start_time": "2024-04-03T21:12:13.995088800Z"
    }
   },
   "id": "13e4b0b107c18937"
  },
  {
   "cell_type": "code",
   "execution_count": 30,
   "outputs": [
    {
     "data": {
      "text/plain": "<Figure size 640x480 with 1 Axes>",
      "image/png": "[encoded data removed]"
     },
     "metadata": {},
     "output_type": "display_data"
    }
   ],
   "source": [
    "import matplotlib.pyplot as plt\n",
    "\n",
    "n_rows = []\n",
    "for i in range(18):\n",
    "    clean_df = sell_df.dropna(thresh=i)\n",
    "    n_rows.append(clean_df.shape[0])\n",
    "\n",
    "plt.plot(list(range(18)), n_rows)\n",
    "plt.xlabel('Threshold for number of non-null values in row')\n",
    "plt.ylabel('Number of left rows satisfying criteria')\n",
    "\n",
    "plt.show()\n"
   ],
   "metadata": {
    "collapsed": false,
    "ExecuteTime": {
     "end_time": "2024-04-03T21:12:16.343182600Z",
     "start_time": "2024-04-03T21:12:14.061940500Z"
    }
   },
   "id": "fdcb4dba04b40a9"
  },
  {
   "cell_type": "code",
   "execution_count": 31,
   "outputs": [
    {
     "data": {
      "text/plain": "252450"
     },
     "execution_count": 31,
     "metadata": {},
     "output_type": "execute_result"
    }
   ],
   "source": [
    "clean_df = sell_df.dropna(thresh=13)\n",
    "clean_df.shape[0]"
   ],
   "metadata": {
    "collapsed": false,
    "ExecuteTime": {
     "end_time": "2024-04-03T21:13:26.781066100Z",
     "start_time": "2024-04-03T21:13:26.640000400Z"
    }
   },
   "id": "3d8d404b70934e09"
  },
  {
   "cell_type": "code",
   "execution_count": 32,
   "outputs": [
    {
     "name": "stdout",
     "output_type": "stream",
     "text": [
      "price                    0\n",
      "category                 0\n",
      "beds                     0\n",
      "livings                  0\n",
      "wc                       5\n",
      "area                     0\n",
      "type                250383\n",
      "street_width             4\n",
      "age                     94\n",
      "street_direction        60\n",
      "ketchen                 34\n",
      "ac                  251093\n",
      "furnished               17\n",
      "location.lat             0\n",
      "location.lng             0\n",
      "dtype: int64\n"
     ]
    }
   ],
   "source": [
    "null_counts = clean_df.isnull().sum()\n",
    "print(null_counts)"
   ],
   "metadata": {
    "collapsed": false,
    "ExecuteTime": {
     "end_time": "2024-04-03T21:13:29.722612100Z",
     "start_time": "2024-04-03T21:13:29.693691Z"
    }
   },
   "id": "ae1f669ff0af61c8"
  },
  {
   "cell_type": "code",
   "execution_count": 39,
   "outputs": [
    {
     "data": {
      "text/plain": "        price  category  beds  livings   wc     area  street_width  age  \\\n0   1958400.0         2   0.0      0.0  0.0    816.0          60.0  0.0   \n1  15078000.0         2   0.0      0.0  0.0   1077.0          80.0  0.0   \n2   8057700.0         2   0.0      0.0  0.0  23022.0          15.0  0.0   \n4   3000000.0         2   0.0      0.0  0.0    870.0          15.0  0.0   \n5   1050000.0         2   0.0      0.0  0.0    875.0          30.0  0.0   \n\n   street_direction  ketchen  furnished  location.lat  location.lng  \n0               4.0      0.0        0.0     24.548930     46.781390  \n1               4.0      0.0        0.0     24.754130     46.724820  \n2               3.0      0.0        0.0     18.268720     41.516460  \n4               7.0      0.0        0.0     26.285235     50.180363  \n5               4.0      0.0        0.0     24.560830     46.795360  ",
      "text/html": "<div>\n<style scoped>\n    .dataframe tbody tr th:only-of-type {\n        vertical-align: middle;\n    }\n\n    .dataframe tbody tr th {\n        vertical-align: top;\n    }\n\n    .dataframe thead th {\n        text-align: right;\n    }\n</style>\n<table border=\"1\" class=\"dataframe\">\n  <thead>\n    <tr style=\"text-align: right;\">\n      <th></th>\n      <th>price</th>\n      <th>category</th>\n      <th>beds</th>\n      <th>livings</th>\n      <th>wc</th>\n      <th>area</th>\n      <th>street_width</th>\n      <th>age</th>\n      <th>street_direction</th>\n      <th>ketchen</th>\n      <th>furnished</th>\n      <th>location.lat</th>\n      <th>location.lng</th>\n    </tr>\n  </thead>\n  <tbody>\n    <tr>\n      <th>0</th>\n      <td>1958400.0</td>\n      <td>2</td>\n      <td>0.0</td>\n      <td>0.0</td>\n      <td>0.0</td>\n      <td>816.0</td>\n      <td>60.0</td>\n      <td>0.0</td>\n      <td>4.0</td>\n      <td>0.0</td>\n      <td>0.0</td>\n      <td>24.548930</td>\n      <td>46.781390</td>\n    </tr>\n    <tr>\n      <th>1</th>\n      <td>15078000.0</td>\n      <td>2</td>\n      <td>0.0</td>\n      <td>0.0</td>\n      <td>0.0</td>\n      <td>1077.0</td>\n      <td>80.0</td>\n      <td>0.0</td>\n      <td>4.0</td>\n      <td>0.0</td>\n      <td>0.0</td>\n      <td>24.754130</td>\n      <td>46.724820</td>\n    </tr>\n    <tr>\n      <th>2</th>\n      <td>8057700.0</td>\n      <td>2</td>\n      <td>0.0</td>\n      <td>0.0</td>\n      <td>0.0</td>\n      <td>23022.0</td>\n      <td>15.0</td>\n      <td>0.0</td>\n      <td>3.0</td>\n      <td>0.0</td>\n      <td>0.0</td>\n      <td>18.268720</td>\n      <td>41.516460</td>\n    </tr>\n    <tr>\n      <th>4</th>\n      <td>3000000.0</td>\n      <td>2</td>\n      <td>0.0</td>\n      <td>0.0</td>\n      <td>0.0</td>\n      <td>870.0</td>\n      <td>15.0</td>\n      <td>0.0</td>\n      <td>7.0</td>\n      <td>0.0</td>\n      <td>0.0</td>\n      <td>26.285235</td>\n      <td>50.180363</td>\n    </tr>\n    <tr>\n      <th>5</th>\n      <td>1050000.0</td>\n      <td>2</td>\n      <td>0.0</td>\n      <td>0.0</td>\n      <td>0.0</td>\n      <td>875.0</td>\n      <td>30.0</td>\n      <td>0.0</td>\n      <td>4.0</td>\n      <td>0.0</td>\n      <td>0.0</td>\n      <td>24.560830</td>\n      <td>46.795360</td>\n    </tr>\n  </tbody>\n</table>\n</div>"
     },
     "execution_count": 39,
     "metadata": {},
     "output_type": "execute_result"
    }
   ],
   "source": [
    "not_needed_columns = ['type', 'ac']\n",
    "new_clean_df = clean_df.drop(not_needed_columns, axis=1)\n",
    "new_clean_df.head(5)"
   ],
   "metadata": {
    "collapsed": false,
    "ExecuteTime": {
     "end_time": "2024-04-03T21:14:49.966357100Z",
     "start_time": "2024-04-03T21:14:49.914081300Z"
    }
   },
   "id": "c9579c1b183bac67"
  },
  {
   "cell_type": "code",
   "execution_count": 40,
   "outputs": [
    {
     "name": "stdout",
     "output_type": "stream",
     "text": [
      "price                0\n",
      "category             0\n",
      "beds                 0\n",
      "livings              0\n",
      "wc                   5\n",
      "area                 0\n",
      "street_width         4\n",
      "age                 94\n",
      "street_direction    60\n",
      "ketchen             34\n",
      "furnished           17\n",
      "location.lat         0\n",
      "location.lng         0\n",
      "dtype: int64\n"
     ]
    }
   ],
   "source": [
    "new_null_counts = new_clean_df.isnull().sum()\n",
    "print(new_null_counts)"
   ],
   "metadata": {
    "collapsed": false,
    "ExecuteTime": {
     "end_time": "2024-04-03T21:14:52.367943700Z",
     "start_time": "2024-04-03T21:14:52.332025900Z"
    }
   },
   "id": "fd0118c141fbedb"
  },
  {
   "cell_type": "code",
   "execution_count": 41,
   "outputs": [
    {
     "data": {
      "text/plain": "        price  category  beds  livings   wc     area  street_width  age  \\\n0   1958400.0         2   0.0      0.0  0.0    816.0          60.0  0.0   \n1  15078000.0         2   0.0      0.0  0.0   1077.0          80.0  0.0   \n2   8057700.0         2   0.0      0.0  0.0  23022.0          15.0  0.0   \n4   3000000.0         2   0.0      0.0  0.0    870.0          15.0  0.0   \n5   1050000.0         2   0.0      0.0  0.0    875.0          30.0  0.0   \n\n   street_direction  ketchen  furnished  location.lat  location.lng  \n0               4.0      0.0        0.0     24.548930     46.781390  \n1               4.0      0.0        0.0     24.754130     46.724820  \n2               3.0      0.0        0.0     18.268720     41.516460  \n4               7.0      0.0        0.0     26.285235     50.180363  \n5               4.0      0.0        0.0     24.560830     46.795360  ",
      "text/html": "<div>\n<style scoped>\n    .dataframe tbody tr th:only-of-type {\n        vertical-align: middle;\n    }\n\n    .dataframe tbody tr th {\n        vertical-align: top;\n    }\n\n    .dataframe thead th {\n        text-align: right;\n    }\n</style>\n<table border=\"1\" class=\"dataframe\">\n  <thead>\n    <tr style=\"text-align: right;\">\n      <th></th>\n      <th>price</th>\n      <th>category</th>\n      <th>beds</th>\n      <th>livings</th>\n      <th>wc</th>\n      <th>area</th>\n      <th>street_width</th>\n      <th>age</th>\n      <th>street_direction</th>\n      <th>ketchen</th>\n      <th>furnished</th>\n      <th>location.lat</th>\n      <th>location.lng</th>\n    </tr>\n  </thead>\n  <tbody>\n    <tr>\n      <th>0</th>\n      <td>1958400.0</td>\n      <td>2</td>\n      <td>0.0</td>\n      <td>0.0</td>\n      <td>0.0</td>\n      <td>816.0</td>\n      <td>60.0</td>\n      <td>0.0</td>\n      <td>4.0</td>\n      <td>0.0</td>\n      <td>0.0</td>\n      <td>24.548930</td>\n      <td>46.781390</td>\n    </tr>\n    <tr>\n      <th>1</th>\n      <td>15078000.0</td>\n      <td>2</td>\n      <td>0.0</td>\n      <td>0.0</td>\n      <td>0.0</td>\n      <td>1077.0</td>\n      <td>80.0</td>\n      <td>0.0</td>\n      <td>4.0</td>\n      <td>0.0</td>\n      <td>0.0</td>\n      <td>24.754130</td>\n      <td>46.724820</td>\n    </tr>\n    <tr>\n      <th>2</th>\n      <td>8057700.0</td>\n      <td>2</td>\n      <td>0.0</td>\n      <td>0.0</td>\n      <td>0.0</td>\n      <td>23022.0</td>\n      <td>15.0</td>\n      <td>0.0</td>\n      <td>3.0</td>\n      <td>0.0</td>\n      <td>0.0</td>\n      <td>18.268720</td>\n      <td>41.516460</td>\n    </tr>\n    <tr>\n      <th>4</th>\n      <td>3000000.0</td>\n      <td>2</td>\n      <td>0.0</td>\n      <td>0.0</td>\n      <td>0.0</td>\n      <td>870.0</td>\n      <td>15.0</td>\n      <td>0.0</td>\n      <td>7.0</td>\n      <td>0.0</td>\n      <td>0.0</td>\n      <td>26.285235</td>\n      <td>50.180363</td>\n    </tr>\n    <tr>\n      <th>5</th>\n      <td>1050000.0</td>\n      <td>2</td>\n      <td>0.0</td>\n      <td>0.0</td>\n      <td>0.0</td>\n      <td>875.0</td>\n      <td>30.0</td>\n      <td>0.0</td>\n      <td>4.0</td>\n      <td>0.0</td>\n      <td>0.0</td>\n      <td>24.560830</td>\n      <td>46.795360</td>\n    </tr>\n  </tbody>\n</table>\n</div>"
     },
     "execution_count": 41,
     "metadata": {},
     "output_type": "execute_result"
    }
   ],
   "source": [
    "new_clean_df = new_clean_df.dropna()\n",
    "new_clean_df.head()"
   ],
   "metadata": {
    "collapsed": false,
    "ExecuteTime": {
     "end_time": "2024-04-03T21:14:53.035083900Z",
     "start_time": "2024-04-03T21:14:52.979303500Z"
    }
   },
   "id": "47bcd33e9659234a"
  },
  {
   "cell_type": "code",
   "execution_count": 42,
   "outputs": [],
   "source": [
    "def one_hot_encoding(column, df):\n",
    "    one_hot_encoded_df = pd.get_dummies(df[column], prefix=column)\n",
    "    df = pd.concat([df, one_hot_encoded_df], axis=1)\n",
    "    df.drop(column, axis=1, inplace=True)\n",
    "    return df"
   ],
   "metadata": {
    "collapsed": false,
    "ExecuteTime": {
     "end_time": "2024-04-03T21:14:54.359879400Z",
     "start_time": "2024-04-03T21:14:54.341533100Z"
    }
   },
   "id": "fdda216b4f4ce9d4"
  },
  {
   "cell_type": "code",
   "execution_count": 43,
   "outputs": [],
   "source": [
    "column_to_one_hot_encode = ['category', 'street_direction']\n",
    "for column in column_to_one_hot_encode:\n",
    "    new_clean_df = one_hot_encoding(column, new_clean_df)"
   ],
   "metadata": {
    "collapsed": false,
    "ExecuteTime": {
     "end_time": "2024-04-03T21:14:55.657813Z",
     "start_time": "2024-04-03T21:14:55.580184800Z"
    }
   },
   "id": "b2f52b17bab5086b"
  },
  {
   "cell_type": "code",
   "execution_count": 44,
   "outputs": [],
   "source": [
    "new_clean_df.to_csv('prepared_dataset_sale_estate.csv')"
   ],
   "metadata": {
    "collapsed": false,
    "ExecuteTime": {
     "end_time": "2024-04-03T21:15:01.239819200Z",
     "start_time": "2024-04-03T21:14:58.453238500Z"
    }
   },
   "id": "7a62887295fe1f75"
  },
  {
   "cell_type": "markdown",
   "source": [
    "# Real-estate for rent"
   ],
   "metadata": {
    "collapsed": false
   },
   "id": "edbddc793b2a0c56"
  },
  {
   "cell_type": "code",
   "execution_count": 45,
   "outputs": [
    {
     "data": {
      "text/plain": "       price  category  beds  livings   wc    area  type  street_width  age  \\\n3    50000.0        15   0.0      0.0  0.0   400.0   3.0          35.0  0.0   \n6   350000.0        16   0.0      0.0  0.0   780.0   3.0          40.0  3.0   \n14  800000.0        15   0.0      0.0  0.0  2400.0   2.0          60.0  0.0   \n17   50000.0         8   0.0      0.0  0.0   130.0   0.0          50.0  0.0   \n33   76000.0         8   0.0      0.0  0.0   150.0   0.0          40.0  6.0   \n\n    street_direction  ketchen   ac  furnished  location.lat  location.lng  \\\n3                4.0      0.0  0.0        0.0     21.892200     39.126540   \n6                3.0      0.0  0.0        0.0     26.355790     50.036730   \n14               3.0      0.0  0.0        0.0     26.225629     50.214515   \n17               4.0      0.0  0.0        0.0     18.198070     42.556930   \n33               3.0      0.0  0.0        0.0     24.588432     46.760539   \n\n    rent_period  \n3           0.0  \n6           0.0  \n14          0.0  \n17          0.0  \n33          0.0  ",
      "text/html": "<div>\n<style scoped>\n    .dataframe tbody tr th:only-of-type {\n        vertical-align: middle;\n    }\n\n    .dataframe tbody tr th {\n        vertical-align: top;\n    }\n\n    .dataframe thead th {\n        text-align: right;\n    }\n</style>\n<table border=\"1\" class=\"dataframe\">\n  <thead>\n    <tr style=\"text-align: right;\">\n      <th></th>\n      <th>price</th>\n      <th>category</th>\n      <th>beds</th>\n      <th>livings</th>\n      <th>wc</th>\n      <th>area</th>\n      <th>type</th>\n      <th>street_width</th>\n      <th>age</th>\n      <th>street_direction</th>\n      <th>ketchen</th>\n      <th>ac</th>\n      <th>furnished</th>\n      <th>location.lat</th>\n      <th>location.lng</th>\n      <th>rent_period</th>\n    </tr>\n  </thead>\n  <tbody>\n    <tr>\n      <th>3</th>\n      <td>50000.0</td>\n      <td>15</td>\n      <td>0.0</td>\n      <td>0.0</td>\n      <td>0.0</td>\n      <td>400.0</td>\n      <td>3.0</td>\n      <td>35.0</td>\n      <td>0.0</td>\n      <td>4.0</td>\n      <td>0.0</td>\n      <td>0.0</td>\n      <td>0.0</td>\n      <td>21.892200</td>\n      <td>39.126540</td>\n      <td>0.0</td>\n    </tr>\n    <tr>\n      <th>6</th>\n      <td>350000.0</td>\n      <td>16</td>\n      <td>0.0</td>\n      <td>0.0</td>\n      <td>0.0</td>\n      <td>780.0</td>\n      <td>3.0</td>\n      <td>40.0</td>\n      <td>3.0</td>\n      <td>3.0</td>\n      <td>0.0</td>\n      <td>0.0</td>\n      <td>0.0</td>\n      <td>26.355790</td>\n      <td>50.036730</td>\n      <td>0.0</td>\n    </tr>\n    <tr>\n      <th>14</th>\n      <td>800000.0</td>\n      <td>15</td>\n      <td>0.0</td>\n      <td>0.0</td>\n      <td>0.0</td>\n      <td>2400.0</td>\n      <td>2.0</td>\n      <td>60.0</td>\n      <td>0.0</td>\n      <td>3.0</td>\n      <td>0.0</td>\n      <td>0.0</td>\n      <td>0.0</td>\n      <td>26.225629</td>\n      <td>50.214515</td>\n      <td>0.0</td>\n    </tr>\n    <tr>\n      <th>17</th>\n      <td>50000.0</td>\n      <td>8</td>\n      <td>0.0</td>\n      <td>0.0</td>\n      <td>0.0</td>\n      <td>130.0</td>\n      <td>0.0</td>\n      <td>50.0</td>\n      <td>0.0</td>\n      <td>4.0</td>\n      <td>0.0</td>\n      <td>0.0</td>\n      <td>0.0</td>\n      <td>18.198070</td>\n      <td>42.556930</td>\n      <td>0.0</td>\n    </tr>\n    <tr>\n      <th>33</th>\n      <td>76000.0</td>\n      <td>8</td>\n      <td>0.0</td>\n      <td>0.0</td>\n      <td>0.0</td>\n      <td>150.0</td>\n      <td>0.0</td>\n      <td>40.0</td>\n      <td>6.0</td>\n      <td>3.0</td>\n      <td>0.0</td>\n      <td>0.0</td>\n      <td>0.0</td>\n      <td>24.588432</td>\n      <td>46.760539</td>\n      <td>0.0</td>\n    </tr>\n  </tbody>\n</table>\n</div>"
     },
     "execution_count": 45,
     "metadata": {},
     "output_type": "execute_result"
    }
   ],
   "source": [
    "rental_df.head()"
   ],
   "metadata": {
    "collapsed": false,
    "ExecuteTime": {
     "end_time": "2024-04-03T21:15:43.259898300Z",
     "start_time": "2024-04-03T21:15:43.225404600Z"
    }
   },
   "id": "536281b71f4642f8"
  },
  {
   "cell_type": "code",
   "execution_count": 46,
   "outputs": [
    {
     "data": {
      "text/plain": "<Figure size 640x480 with 1 Axes>",
      "image/png": "[encoded data removed]"
     },
     "metadata": {},
     "output_type": "display_data"
    }
   ],
   "source": [
    "import matplotlib.pyplot as plt\n",
    "\n",
    "n_rows = []\n",
    "for i in range(18):\n",
    "    clean_df = rental_df.dropna(thresh=i)\n",
    "    n_rows.append(clean_df.shape[0])\n",
    "\n",
    "plt.plot(list(range(18)), n_rows)\n",
    "plt.xlabel('Threshold for number of non-null values in row')\n",
    "plt.ylabel('Number of left rows satisfying criteria')\n",
    "\n",
    "plt.show()\n"
   ],
   "metadata": {
    "collapsed": false,
    "ExecuteTime": {
     "end_time": "2024-04-03T21:15:50.876360800Z",
     "start_time": "2024-04-03T21:15:50.201756Z"
    }
   },
   "id": "b91db0eb55fffba"
  },
  {
   "cell_type": "code",
   "execution_count": 47,
   "outputs": [
    {
     "data": {
      "text/plain": "81966"
     },
     "execution_count": 47,
     "metadata": {},
     "output_type": "execute_result"
    }
   ],
   "source": [
    "clean_df = rental_df.dropna(thresh=14)\n",
    "clean_df.shape[0]"
   ],
   "metadata": {
    "collapsed": false,
    "ExecuteTime": {
     "end_time": "2024-04-03T21:16:06.799070900Z",
     "start_time": "2024-04-03T21:16:06.758103500Z"
    }
   },
   "id": "d186e16ce1bf0ed3"
  },
  {
   "cell_type": "code",
   "execution_count": 48,
   "outputs": [
    {
     "name": "stdout",
     "output_type": "stream",
     "text": [
      "price                   0\n",
      "category                0\n",
      "beds                    0\n",
      "livings                 0\n",
      "wc                      2\n",
      "area                    0\n",
      "type                81696\n",
      "street_width          191\n",
      "age                    64\n",
      "street_direction    67958\n",
      "ketchen                11\n",
      "ac                     27\n",
      "furnished               7\n",
      "location.lat            0\n",
      "location.lng            0\n",
      "rent_period         13117\n",
      "dtype: int64\n"
     ]
    }
   ],
   "source": [
    "null_counts = clean_df.isnull().sum()\n",
    "print(null_counts)"
   ],
   "metadata": {
    "collapsed": false,
    "ExecuteTime": {
     "end_time": "2024-04-03T21:16:08.623913700Z",
     "start_time": "2024-04-03T21:16:08.546407600Z"
    }
   },
   "id": "c0b6b9b6a339f6e1"
  },
  {
   "cell_type": "code",
   "execution_count": 49,
   "outputs": [
    {
     "data": {
      "text/plain": "       price  category  beds  livings   wc    area  street_width  age  \\\n3    50000.0        15   0.0      0.0  0.0   400.0          35.0  0.0   \n6   350000.0        16   0.0      0.0  0.0   780.0          40.0  3.0   \n14  800000.0        15   0.0      0.0  0.0  2400.0          60.0  0.0   \n17   50000.0         8   0.0      0.0  0.0   130.0          50.0  0.0   \n33   76000.0         8   0.0      0.0  0.0   150.0          40.0  6.0   \n\n    ketchen   ac  furnished  location.lat  location.lng  rent_period  \n3       0.0  0.0        0.0     21.892200     39.126540          0.0  \n6       0.0  0.0        0.0     26.355790     50.036730          0.0  \n14      0.0  0.0        0.0     26.225629     50.214515          0.0  \n17      0.0  0.0        0.0     18.198070     42.556930          0.0  \n33      0.0  0.0        0.0     24.588432     46.760539          0.0  ",
      "text/html": "<div>\n<style scoped>\n    .dataframe tbody tr th:only-of-type {\n        vertical-align: middle;\n    }\n\n    .dataframe tbody tr th {\n        vertical-align: top;\n    }\n\n    .dataframe thead th {\n        text-align: right;\n    }\n</style>\n<table border=\"1\" class=\"dataframe\">\n  <thead>\n    <tr style=\"text-align: right;\">\n      <th></th>\n      <th>price</th>\n      <th>category</th>\n      <th>beds</th>\n      <th>livings</th>\n      <th>wc</th>\n      <th>area</th>\n      <th>street_width</th>\n      <th>age</th>\n      <th>ketchen</th>\n      <th>ac</th>\n      <th>furnished</th>\n      <th>location.lat</th>\n      <th>location.lng</th>\n      <th>rent_period</th>\n    </tr>\n  </thead>\n  <tbody>\n    <tr>\n      <th>3</th>\n      <td>50000.0</td>\n      <td>15</td>\n      <td>0.0</td>\n      <td>0.0</td>\n      <td>0.0</td>\n      <td>400.0</td>\n      <td>35.0</td>\n      <td>0.0</td>\n      <td>0.0</td>\n      <td>0.0</td>\n      <td>0.0</td>\n      <td>21.892200</td>\n      <td>39.126540</td>\n      <td>0.0</td>\n    </tr>\n    <tr>\n      <th>6</th>\n      <td>350000.0</td>\n      <td>16</td>\n      <td>0.0</td>\n      <td>0.0</td>\n      <td>0.0</td>\n      <td>780.0</td>\n      <td>40.0</td>\n      <td>3.0</td>\n      <td>0.0</td>\n      <td>0.0</td>\n      <td>0.0</td>\n      <td>26.355790</td>\n      <td>50.036730</td>\n      <td>0.0</td>\n    </tr>\n    <tr>\n      <th>14</th>\n      <td>800000.0</td>\n      <td>15</td>\n      <td>0.0</td>\n      <td>0.0</td>\n      <td>0.0</td>\n      <td>2400.0</td>\n      <td>60.0</td>\n      <td>0.0</td>\n      <td>0.0</td>\n      <td>0.0</td>\n      <td>0.0</td>\n      <td>26.225629</td>\n      <td>50.214515</td>\n      <td>0.0</td>\n    </tr>\n    <tr>\n      <th>17</th>\n      <td>50000.0</td>\n      <td>8</td>\n      <td>0.0</td>\n      <td>0.0</td>\n      <td>0.0</td>\n      <td>130.0</td>\n      <td>50.0</td>\n      <td>0.0</td>\n      <td>0.0</td>\n      <td>0.0</td>\n      <td>0.0</td>\n      <td>18.198070</td>\n      <td>42.556930</td>\n      <td>0.0</td>\n    </tr>\n    <tr>\n      <th>33</th>\n      <td>76000.0</td>\n      <td>8</td>\n      <td>0.0</td>\n      <td>0.0</td>\n      <td>0.0</td>\n      <td>150.0</td>\n      <td>40.0</td>\n      <td>6.0</td>\n      <td>0.0</td>\n      <td>0.0</td>\n      <td>0.0</td>\n      <td>24.588432</td>\n      <td>46.760539</td>\n      <td>0.0</td>\n    </tr>\n  </tbody>\n</table>\n</div>"
     },
     "execution_count": 49,
     "metadata": {},
     "output_type": "execute_result"
    }
   ],
   "source": [
    "not_needed_columns = ['type', 'street_direction']\n",
    "new_clean_df = clean_df.drop(not_needed_columns, axis=1)\n",
    "new_clean_df.head(5)"
   ],
   "metadata": {
    "collapsed": false,
    "ExecuteTime": {
     "end_time": "2024-04-03T21:16:10.728074400Z",
     "start_time": "2024-04-03T21:16:10.696464800Z"
    }
   },
   "id": "1da5cd1839c430f8"
  },
  {
   "cell_type": "code",
   "execution_count": 50,
   "outputs": [
    {
     "name": "stdout",
     "output_type": "stream",
     "text": [
      "68579\n"
     ]
    }
   ],
   "source": [
    "new_clean_df = new_clean_df.dropna()\n",
    "print(len(new_clean_df))"
   ],
   "metadata": {
    "collapsed": false,
    "ExecuteTime": {
     "end_time": "2024-04-03T21:16:13.525120600Z",
     "start_time": "2024-04-03T21:16:13.497136900Z"
    }
   },
   "id": "f7436817080a3d1f"
  },
  {
   "cell_type": "code",
   "execution_count": 51,
   "outputs": [],
   "source": [
    "column_to_one_hot_encode = ['category', 'rent_period']\n",
    "for column in column_to_one_hot_encode:\n",
    "    new_clean_df = one_hot_encoding(column, new_clean_df)"
   ],
   "metadata": {
    "collapsed": false,
    "ExecuteTime": {
     "end_time": "2024-04-03T21:16:43.421708600Z",
     "start_time": "2024-04-03T21:16:43.329998300Z"
    }
   },
   "id": "93546f3b8c4d8ae0"
  },
  {
   "cell_type": "code",
   "execution_count": 52,
   "outputs": [
    {
     "data": {
      "text/plain": "       price  beds  livings   wc    area  street_width  age  ketchen   ac  \\\n3    50000.0   0.0      0.0  0.0   400.0          35.0  0.0      0.0  0.0   \n6   350000.0   0.0      0.0  0.0   780.0          40.0  3.0      0.0  0.0   \n14  800000.0   0.0      0.0  0.0  2400.0          60.0  0.0      0.0  0.0   \n17   50000.0   0.0      0.0  0.0   130.0          50.0  0.0      0.0  0.0   \n33   76000.0   0.0      0.0  0.0   150.0          40.0  6.0      0.0  0.0   \n\n    furnished  ...  category_14  category_15  category_16  category_17  \\\n3         0.0  ...        False         True        False        False   \n6         0.0  ...        False        False         True        False   \n14        0.0  ...        False         True        False        False   \n17        0.0  ...        False        False        False        False   \n33        0.0  ...        False        False        False        False   \n\n    category_19  category_23  rent_period_0.0  rent_period_1.0  \\\n3         False        False             True            False   \n6         False        False             True            False   \n14        False        False             True            False   \n17        False        False             True            False   \n33        False        False             True            False   \n\n    rent_period_2.0  rent_period_3.0  \n3             False            False  \n6             False            False  \n14            False            False  \n17            False            False  \n33            False            False  \n\n[5 rows x 28 columns]",
      "text/html": "<div>\n<style scoped>\n    .dataframe tbody tr th:only-of-type {\n        vertical-align: middle;\n    }\n\n    .dataframe tbody tr th {\n        vertical-align: top;\n    }\n\n    .dataframe thead th {\n        text-align: right;\n    }\n</style>\n<table border=\"1\" class=\"dataframe\">\n  <thead>\n    <tr style=\"text-align: right;\">\n      <th></th>\n      <th>price</th>\n      <th>beds</th>\n      <th>livings</th>\n      <th>wc</th>\n      <th>area</th>\n      <th>street_width</th>\n      <th>age</th>\n      <th>ketchen</th>\n      <th>ac</th>\n      <th>furnished</th>\n      <th>...</th>\n      <th>category_14</th>\n      <th>category_15</th>\n      <th>category_16</th>\n      <th>category_17</th>\n      <th>category_19</th>\n      <th>category_23</th>\n      <th>rent_period_0.0</th>\n      <th>rent_period_1.0</th>\n      <th>rent_period_2.0</th>\n      <th>rent_period_3.0</th>\n    </tr>\n  </thead>\n  <tbody>\n    <tr>\n      <th>3</th>\n      <td>50000.0</td>\n      <td>0.0</td>\n      <td>0.0</td>\n      <td>0.0</td>\n      <td>400.0</td>\n      <td>35.0</td>\n      <td>0.0</td>\n      <td>0.0</td>\n      <td>0.0</td>\n      <td>0.0</td>\n      <td>...</td>\n      <td>False</td>\n      <td>True</td>\n      <td>False</td>\n      <td>False</td>\n      <td>False</td>\n      <td>False</td>\n      <td>True</td>\n      <td>False</td>\n      <td>False</td>\n      <td>False</td>\n    </tr>\n    <tr>\n      <th>6</th>\n      <td>350000.0</td>\n      <td>0.0</td>\n      <td>0.0</td>\n      <td>0.0</td>\n      <td>780.0</td>\n      <td>40.0</td>\n      <td>3.0</td>\n      <td>0.0</td>\n      <td>0.0</td>\n      <td>0.0</td>\n      <td>...</td>\n      <td>False</td>\n      <td>False</td>\n      <td>True</td>\n      <td>False</td>\n      <td>False</td>\n      <td>False</td>\n      <td>True</td>\n      <td>False</td>\n      <td>False</td>\n      <td>False</td>\n    </tr>\n    <tr>\n      <th>14</th>\n      <td>800000.0</td>\n      <td>0.0</td>\n      <td>0.0</td>\n      <td>0.0</td>\n      <td>2400.0</td>\n      <td>60.0</td>\n      <td>0.0</td>\n      <td>0.0</td>\n      <td>0.0</td>\n      <td>0.0</td>\n      <td>...</td>\n      <td>False</td>\n      <td>True</td>\n      <td>False</td>\n      <td>False</td>\n      <td>False</td>\n      <td>False</td>\n      <td>True</td>\n      <td>False</td>\n      <td>False</td>\n      <td>False</td>\n    </tr>\n    <tr>\n      <th>17</th>\n      <td>50000.0</td>\n      <td>0.0</td>\n      <td>0.0</td>\n      <td>0.0</td>\n      <td>130.0</td>\n      <td>50.0</td>\n      <td>0.0</td>\n      <td>0.0</td>\n      <td>0.0</td>\n      <td>0.0</td>\n      <td>...</td>\n      <td>False</td>\n      <td>False</td>\n      <td>False</td>\n      <td>False</td>\n      <td>False</td>\n      <td>False</td>\n      <td>True</td>\n      <td>False</td>\n      <td>False</td>\n      <td>False</td>\n    </tr>\n    <tr>\n      <th>33</th>\n      <td>76000.0</td>\n      <td>0.0</td>\n      <td>0.0</td>\n      <td>0.0</td>\n      <td>150.0</td>\n      <td>40.0</td>\n      <td>6.0</td>\n      <td>0.0</td>\n      <td>0.0</td>\n      <td>0.0</td>\n      <td>...</td>\n      <td>False</td>\n      <td>False</td>\n      <td>False</td>\n      <td>False</td>\n      <td>False</td>\n      <td>False</td>\n      <td>True</td>\n      <td>False</td>\n      <td>False</td>\n      <td>False</td>\n    </tr>\n  </tbody>\n</table>\n<p>5 rows × 28 columns</p>\n</div>"
     },
     "execution_count": 52,
     "metadata": {},
     "output_type": "execute_result"
    }
   ],
   "source": [
    "new_clean_df.head()"
   ],
   "metadata": {
    "collapsed": false,
    "ExecuteTime": {
     "end_time": "2024-04-03T21:16:50.120958200Z",
     "start_time": "2024-04-03T21:16:50.010721Z"
    }
   },
   "id": "d386a316749cf89d"
  },
  {
   "cell_type": "code",
   "execution_count": 53,
   "outputs": [],
   "source": [
    "new_clean_df.to_csv('prepared_dataset_rent_estate.csv')"
   ],
   "metadata": {
    "collapsed": false,
    "ExecuteTime": {
     "end_time": "2024-04-03T21:17:18.903696900Z",
     "start_time": "2024-04-03T21:17:18.097044900Z"
    }
   },
   "id": "c49d56a78e9476d7"
  }
 ],
 "metadata": {
  "kernelspec": {
   "display_name": "Python 3",
   "language": "python",
   "name": "python3"
  },
  "language_info": {
   "codemirror_mode": {
    "name": "ipython",
    "version": 2
   },
   "file_extension": ".py",
   "mimetype": "text/x-python",
   "name": "python",
   "nbconvert_exporter": "python",
   "pygments_lexer": "ipython2",
   "version": "2.7.6"
  }
 },
 "nbformat": 4,
 "nbformat_minor": 5
}
